{
 "cells": [
  {
   "cell_type": "code",
   "execution_count": null,
   "metadata": {},
   "outputs": [],
   "source": [
    "import pandas as pd\n",
    "from sklearn.model_selection import train_test_split\n",
    "from sklearn.linear_model import LinearRegression\n",
    "\n",
    "# Load the data from the CSV file\n",
    "data = pd.read_csv(\"playerData.csv\")\n",
    "\n",
    "# Extract the first and second columns\n",
    "given_variable = data.iloc[:, 0].values.reshape(-1, 1)\n",
    "resulting_variable = data.iloc[:, 1].values.reshape(-1, 1)\n",
    "\n",
    "# Split the data into training and testing sets\n",
    "X_train, X_test, y_train, y_test = train_test_split(given_variable, resulting_variable, test_size=0.2, random_state=42)\n",
    "\n",
    "# Train the linear regression model\n",
    "model = LinearRegression()\n",
    "model.fit(X_train, y_train)\n",
    "\n",
    "# Test the model\n",
    "score = model.score(X_test, y_test)\n",
    "print(\"Model accuracy: {:.2f}\".format(score * 100))\n",
    "\n",
    "# Function to predict the resulting variable based on given input\n",
    "def predict_given_variable(input_value):\n",
    "    prediction = model.predict([[input_value]])\n",
    "    return prediction[0][0]\n",
    "\n",
    "# Example: Predict the resulting variable for a new given variable value\n",
    "given_variable_value = 10\n",
    "predicted_resulting_variable = predict_given_variable(given_variable_value)\n",
    "print(\"Predicted resulting variable for given variable {}: {:.2f}\".format(given_variable_value, predicted_resulting_variable))"
   ]
  }
 ],
 "metadata": {
  "language_info": {
   "name": "python"
  },
  "orig_nbformat": 4
 },
 "nbformat": 4,
 "nbformat_minor": 2
}
